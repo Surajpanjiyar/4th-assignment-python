{
  "nbformat": 4,
  "nbformat_minor": 0,
  "metadata": {
    "colab": {
      "provenance": [],
      "authorship_tag": "ABX9TyPi7NpMDPhZ3BxfGaZ1eK2h",
      "include_colab_link": true
    },
    "kernelspec": {
      "name": "python3",
      "display_name": "Python 3"
    },
    "language_info": {
      "name": "python"
    }
  },
  "cells": [
    {
      "cell_type": "markdown",
      "metadata": {
        "id": "view-in-github",
        "colab_type": "text"
      },
      "source": [
        "<a href=\"https://colab.research.google.com/github/Surajpanjiyar/4th-assignment-python/blob/main/square.ipynb\" target=\"_parent\"><img src=\"https://colab.research.google.com/assets/colab-badge.svg\" alt=\"Open In Colab\"/></a>"
      ]
    },
    {
      "cell_type": "code",
      "execution_count": 4,
      "metadata": {
        "colab": {
          "base_uri": "https://localhost:8080/"
        },
        "id": "IAb5Pn1R5imo",
        "outputId": "1282e2d9-bdf2-42ef-dbf6-f0aa10d4c766"
      },
      "outputs": [
        {
          "output_type": "stream",
          "name": "stdout",
          "text": [
            "Sample List:  [4, 5, 2, 9]\n",
            "Square the elements of the list:\n",
            "[16, 25, 4, 81]\n"
          ]
        }
      ],
      "source": [
        "# Write a Python program to square the elements of a list using map() function.\n",
        "\n",
        "# Sample List: [4, 5, 2, 9]\n",
        "# Square the elements of the list:[16, 25, 4, 81]\n",
        "\n",
        "def square_num(a):\n",
        "  return a * a\n",
        "b = [4, 5, 2, 9]\n",
        "print(\"Sample List: \",b)\n",
        "result = map(square_num, b)\n",
        "print(\"Square the elements of the list:\")\n",
        "print(list(result))\n"
      ]
    },
    {
      "cell_type": "code",
      "source": [],
      "metadata": {
        "id": "FWr-5eFH66HW"
      },
      "execution_count": null,
      "outputs": []
    }
  ]
}