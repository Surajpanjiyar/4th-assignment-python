{
  "nbformat": 4,
  "nbformat_minor": 0,
  "metadata": {
    "colab": {
      "provenance": [],
      "authorship_tag": "ABX9TyN52TlbdvkQFPqAncmGrZHI",
      "include_colab_link": true
    },
    "kernelspec": {
      "name": "python3",
      "display_name": "Python 3"
    },
    "language_info": {
      "name": "python"
    }
  },
  "cells": [
    {
      "cell_type": "markdown",
      "metadata": {
        "id": "view-in-github",
        "colab_type": "text"
      },
      "source": [
        "<a href=\"https://colab.research.google.com/github/Surajpanjiyar/4th-assignment-python/blob/main/maps.ipynb\" target=\"_parent\"><img src=\"https://colab.research.google.com/assets/colab-badge.svg\" alt=\"Open In Colab\"/></a>"
      ]
    },
    {
      "cell_type": "code",
      "execution_count": 9,
      "metadata": {
        "colab": {
          "base_uri": "https://localhost:8080/"
        },
        "id": "xSNXqVAr3hU2",
        "outputId": "ef489405-5888-43e4-d813-27be2c32724d"
      },
      "outputs": [
        {
          "output_type": "stream",
          "name": "stdout",
          "text": [
            "Sample list:  [1, 2, 3, 4, 5, 6, 7]\n",
            "\n",
            "Triple of  list numbers:\n",
            "[3, 6, 9, 12, 15, 18, 21]\n"
          ]
        }
      ],
      "source": [
        "# Write a Python program to triple all numbers of a given list of integers. Use Python map.\n",
        "\n",
        "# sample list: [1, 2, 3, 4, 5, 6, 7]\n",
        "# Triple of list numbers:\n",
        "[3, 6, 9, 12, 15, 18, 21]\n",
        "\n",
        "\n",
        "a = (1, 2, 3, 4, 5, 6, 7)\n",
        "print(\"Sample list: \",list(a) )\n",
        "\n",
        "result = map(lambda x: x + x + x, a)\n",
        "print(\"\\nTriple of  list numbers:\")\n",
        "print(list(result))\n"
      ]
    },
    {
      "cell_type": "code",
      "source": [],
      "metadata": {
        "id": "D57qj1HQ4pt0"
      },
      "execution_count": 7,
      "outputs": []
    }
  ]
}